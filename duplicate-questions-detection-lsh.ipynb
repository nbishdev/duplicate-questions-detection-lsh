{
 "cells": [
  {
   "cell_type": "markdown",
   "metadata": {},
   "source": [
    "# Data Mining\n",
    "## Knowledge Extraction through Data Analysis"
   ]
  },
  {
   "cell_type": "markdown",
   "metadata": {},
   "source": [
    "### This notebook presents some tests on Data Analysis, including Locality Sensitive Hashing (LSH).\n",
    "#### The topic of this experimentation is duplicate questions detection."
   ]
  },
  {
   "cell_type": "markdown",
   "metadata": {},
   "source": [
    "In this experiment we want to determine how many of the questions in the test set exist in the training set."
   ]
  },
  {
   "cell_type": "markdown",
   "metadata": {},
   "source": [
    "<u>Note</u>: The dataset is not provided since I was given this dataset as part of an assignment and I do not know whether I am allowed to share it."
   ]
  },
  {
   "cell_type": "markdown",
   "metadata": {},
   "source": [
    "#### This notebook uses Python version 3.6 or newer."
   ]
  },
  {
   "cell_type": "markdown",
   "metadata": {},
   "source": [
    "Let's start by installing the necessary libraries and toolkits using both Conda and Pip."
   ]
  },
  {
   "cell_type": "code",
   "execution_count": 1,
   "metadata": {},
   "outputs": [],
   "source": [
    "import sys\n",
    "\n",
    "if int(sys.version[0]) < 3 or int(sys.version[2]) < 6:\n",
    "    assert(\"Python version 3.6 or newer is required\")"
   ]
  },
  {
   "cell_type": "markdown",
   "metadata": {},
   "source": [
    "We continue by importing the necessary libraries and toolkits."
   ]
  },
  {
   "cell_type": "code",
   "execution_count": 2,
   "metadata": {},
   "outputs": [],
   "source": [
    "import math\n",
    "import matplotlib.pyplot as plt\n",
    "import nltk\n",
    "import numpy as np\n",
    "import pandas as pd\n",
    "import re\n",
    "from datasketch import MinHash, MinHashLSH\n",
    "from datetime import date, datetime\n",
    "from nltk import word_tokenize\n",
    "from nltk.corpus import stopwords\n",
    "from nltk.stem import SnowballStemmer, WordNetLemmatizer\n",
    "from scipy.sparse import csr_matrix, vstack\n",
    "from sklearn.metrics.pairwise import cosine_similarity\n",
    "from sklearn.feature_extraction.text import CountVectorizer, ENGLISH_STOP_WORDS\n",
    "from wordcloud import WordCloud, STOPWORDS, ImageColorGenerator\n",
    "\n",
    "\n",
    "%matplotlib inline"
   ]
  },
  {
   "cell_type": "markdown",
   "metadata": {},
   "source": [
    "## Data Exploration"
   ]
  },
  {
   "cell_type": "markdown",
   "metadata": {},
   "source": [
    "Let's load the training dataset into a Pandas Dataframe and take perform some data exploration."
   ]
  },
  {
   "cell_type": "code",
   "execution_count": 3,
   "metadata": {},
   "outputs": [
    {
     "data": {
      "text/html": [
       "<div>\n",
       "<style scoped>\n",
       "    .dataframe tbody tr th:only-of-type {\n",
       "        vertical-align: middle;\n",
       "    }\n",
       "\n",
       "    .dataframe tbody tr th {\n",
       "        vertical-align: top;\n",
       "    }\n",
       "\n",
       "    .dataframe thead th {\n",
       "        text-align: right;\n",
       "    }\n",
       "</style>\n",
       "<table border=\"1\" class=\"dataframe\">\n",
       "  <thead>\n",
       "    <tr style=\"text-align: right;\">\n",
       "      <th></th>\n",
       "      <th>Content</th>\n",
       "    </tr>\n",
       "    <tr>\n",
       "      <th>Id</th>\n",
       "      <th></th>\n",
       "    </tr>\n",
       "  </thead>\n",
       "  <tbody>\n",
       "    <tr>\n",
       "      <th>0</th>\n",
       "      <td>How many people are going towards using phones...</td>\n",
       "    </tr>\n",
       "    <tr>\n",
       "      <th>1</th>\n",
       "      <td>What audio format should I use for getting aud...</td>\n",
       "    </tr>\n",
       "    <tr>\n",
       "      <th>2</th>\n",
       "      <td>What is the corporate culture like at Edwards ...</td>\n",
       "    </tr>\n",
       "    <tr>\n",
       "      <th>3</th>\n",
       "      <td>What is the best barbecue in Kansas City?\\n</td>\n",
       "    </tr>\n",
       "    <tr>\n",
       "      <th>4</th>\n",
       "      <td>\"Can I combine the output of two bolts to one ...</td>\n",
       "    </tr>\n",
       "  </tbody>\n",
       "</table>\n",
       "</div>"
      ],
      "text/plain": [
       "                                              Content\n",
       "Id                                                   \n",
       "0   How many people are going towards using phones...\n",
       "1   What audio format should I use for getting aud...\n",
       "2   What is the corporate culture like at Edwards ...\n",
       "3         What is the best barbecue in Kansas City?\\n\n",
       "4   \"Can I combine the output of two bolts to one ..."
      ]
     },
     "execution_count": 3,
     "metadata": {},
     "output_type": "execute_result"
    }
   ],
   "source": [
    "df_train = pd.read_csv('./datasets/q2a/corpusTrain.csv', sep=',', index_col=0, dtype=str)\n",
    "df_train.head()"
   ]
  },
  {
   "cell_type": "markdown",
   "metadata": {},
   "source": [
    "Let's check the number records in this dataset."
   ]
  },
  {
   "cell_type": "code",
   "execution_count": 4,
   "metadata": {},
   "outputs": [
    {
     "name": "stdout",
     "output_type": "stream",
     "text": [
      "<class 'pandas.core.frame.DataFrame'>\n",
      "Int64Index: 531990 entries, 0 to 531989\n",
      "Data columns (total 1 columns):\n",
      " #   Column   Non-Null Count   Dtype \n",
      "---  ------   --------------   ----- \n",
      " 0   Content  531990 non-null  object\n",
      "dtypes: object(1)\n",
      "memory usage: 8.1+ MB\n"
     ]
    }
   ],
   "source": [
    "df_train.info()"
   ]
  },
  {
   "cell_type": "markdown",
   "metadata": {},
   "source": [
    "Now, let's check for NULL values."
   ]
  },
  {
   "cell_type": "code",
   "execution_count": 5,
   "metadata": {},
   "outputs": [
    {
     "data": {
      "text/html": [
       "<div>\n",
       "<style scoped>\n",
       "    .dataframe tbody tr th:only-of-type {\n",
       "        vertical-align: middle;\n",
       "    }\n",
       "\n",
       "    .dataframe tbody tr th {\n",
       "        vertical-align: top;\n",
       "    }\n",
       "\n",
       "    .dataframe thead th {\n",
       "        text-align: right;\n",
       "    }\n",
       "</style>\n",
       "<table border=\"1\" class=\"dataframe\">\n",
       "  <thead>\n",
       "    <tr style=\"text-align: right;\">\n",
       "      <th></th>\n",
       "      <th>null_count</th>\n",
       "      <th>null_percentage</th>\n",
       "    </tr>\n",
       "  </thead>\n",
       "  <tbody>\n",
       "    <tr>\n",
       "      <th>Content</th>\n",
       "      <td>0</td>\n",
       "      <td>0.0</td>\n",
       "    </tr>\n",
       "  </tbody>\n",
       "</table>\n",
       "</div>"
      ],
      "text/plain": [
       "         null_count  null_percentage\n",
       "Content           0              0.0"
      ]
     },
     "execution_count": 5,
     "metadata": {},
     "output_type": "execute_result"
    }
   ],
   "source": [
    "pd.DataFrame({'null_count': df_train.isnull().sum(), 'null_percentage': round(df_train.isnull().sum() * 100 / df_train.shape[0],2)})"
   ]
  },
  {
   "cell_type": "markdown",
   "metadata": {},
   "source": [
    "We can see that 0 out of 531990 records in the training set contain NULL values, which means all questions contain text."
   ]
  },
  {
   "cell_type": "markdown",
   "metadata": {},
   "source": [
    "Let's take a look at our questions, using a WordCloud."
   ]
  },
  {
   "cell_type": "code",
   "execution_count": 6,
   "metadata": {},
   "outputs": [
    {
     "data": {
      "image/png": "[encoded data removed]",
      "text/plain": [
       "<Figure size 432x288 with 1 Axes>"
      ]
     },
     "metadata": {
      "needs_background": "light"
     },
     "output_type": "display_data"
    }
   ],
   "source": [
    "# Extract questions from DataFrame as a string.\n",
    "text = ''.join(df_train['Content'].to_list())\n",
    "\n",
    "# Create a Word Cloud\n",
    "wordcloud = WordCloud(stopwords=set(STOPWORDS), max_words=80, background_color=\"white\", normalize_plurals=False)\n",
    "image = wordcloud.generate_from_text(text)\n",
    "\n",
    "# Plot wordcloud\n",
    "plt.imshow(wordcloud, interpolation='bilinear')\n",
    "plt.axis(\"off\")\n",
    "plt.title(\"Training set\")\n",
    "plt.show()"
   ]
  },
  {
   "cell_type": "markdown",
   "metadata": {},
   "source": [
    "Now, we will perform the same steps for the test set."
   ]
  },
  {
   "cell_type": "code",
   "execution_count": 7,
   "metadata": {},
   "outputs": [
    {
     "data": {
      "text/html": [
       "<div>\n",
       "<style scoped>\n",
       "    .dataframe tbody tr th:only-of-type {\n",
       "        vertical-align: middle;\n",
       "    }\n",
       "\n",
       "    .dataframe tbody tr th {\n",
       "        vertical-align: top;\n",
       "    }\n",
       "\n",
       "    .dataframe thead th {\n",
       "        text-align: right;\n",
       "    }\n",
       "</style>\n",
       "<table border=\"1\" class=\"dataframe\">\n",
       "  <thead>\n",
       "    <tr style=\"text-align: right;\">\n",
       "      <th></th>\n",
       "      <th>Content</th>\n",
       "    </tr>\n",
       "    <tr>\n",
       "      <th>Id</th>\n",
       "      <th></th>\n",
       "    </tr>\n",
       "  </thead>\n",
       "  <tbody>\n",
       "    <tr>\n",
       "      <th>0</th>\n",
       "      <td>How do I get good marks in college?\\n</td>\n",
       "    </tr>\n",
       "    <tr>\n",
       "      <th>1</th>\n",
       "      <td>Can an android app use SMS only to communicate...</td>\n",
       "    </tr>\n",
       "    <tr>\n",
       "      <th>2</th>\n",
       "      <td>What small detail from an Indian movie do you ...</td>\n",
       "    </tr>\n",
       "    <tr>\n",
       "      <th>3</th>\n",
       "      <td>Why can not Hindu women be the soldier of Hind...</td>\n",
       "    </tr>\n",
       "    <tr>\n",
       "      <th>4</th>\n",
       "      <td>How would you write out twelve lakh twelve tho...</td>\n",
       "    </tr>\n",
       "  </tbody>\n",
       "</table>\n",
       "</div>"
      ],
      "text/plain": [
       "                                              Content\n",
       "Id                                                   \n",
       "0               How do I get good marks in college?\\n\n",
       "1   Can an android app use SMS only to communicate...\n",
       "2   What small detail from an Indian movie do you ...\n",
       "3   Why can not Hindu women be the soldier of Hind...\n",
       "4   How would you write out twelve lakh twelve tho..."
      ]
     },
     "execution_count": 7,
     "metadata": {},
     "output_type": "execute_result"
    }
   ],
   "source": [
    "df_test = pd.read_csv('./datasets/q2a/corpusTest.csv', sep=',', index_col=0, dtype=str)\n",
    "df_test.head()"
   ]
  },
  {
   "cell_type": "code",
   "execution_count": 8,
   "metadata": {},
   "outputs": [
    {
     "name": "stdout",
     "output_type": "stream",
     "text": [
      "<class 'pandas.core.frame.DataFrame'>\n",
      "Int64Index: 5374 entries, 0 to 5373\n",
      "Data columns (total 1 columns):\n",
      " #   Column   Non-Null Count  Dtype \n",
      "---  ------   --------------  ----- \n",
      " 0   Content  5374 non-null   object\n",
      "dtypes: object(1)\n",
      "memory usage: 84.0+ KB\n"
     ]
    }
   ],
   "source": [
    "df_test.info()"
   ]
  },
  {
   "cell_type": "markdown",
   "metadata": {},
   "source": [
    "Now, let's check for NULL values."
   ]
  },
  {
   "cell_type": "code",
   "execution_count": 9,
   "metadata": {},
   "outputs": [
    {
     "data": {
      "text/html": [
       "<div>\n",
       "<style scoped>\n",
       "    .dataframe tbody tr th:only-of-type {\n",
       "        vertical-align: middle;\n",
       "    }\n",
       "\n",
       "    .dataframe tbody tr th {\n",
       "        vertical-align: top;\n",
       "    }\n",
       "\n",
       "    .dataframe thead th {\n",
       "        text-align: right;\n",
       "    }\n",
       "</style>\n",
       "<table border=\"1\" class=\"dataframe\">\n",
       "  <thead>\n",
       "    <tr style=\"text-align: right;\">\n",
       "      <th></th>\n",
       "      <th>null_count</th>\n",
       "      <th>null_percentage</th>\n",
       "    </tr>\n",
       "  </thead>\n",
       "  <tbody>\n",
       "    <tr>\n",
       "      <th>Content</th>\n",
       "      <td>0</td>\n",
       "      <td>0.0</td>\n",
       "    </tr>\n",
       "  </tbody>\n",
       "</table>\n",
       "</div>"
      ],
      "text/plain": [
       "         null_count  null_percentage\n",
       "Content           0              0.0"
      ]
     },
     "execution_count": 9,
     "metadata": {},
     "output_type": "execute_result"
    }
   ],
   "source": [
    "pd.DataFrame({'null_count': df_test.isnull().sum(), 'null_percentage': round(df_test.isnull().sum() * 100 / df_test.shape[0],2)})"
   ]
  },
  {
   "cell_type": "markdown",
   "metadata": {},
   "source": [
    "We can see that 0 out of 5374 records in the test set contain NULL values, which means all questions contain text."
   ]
  },
  {
   "cell_type": "code",
   "execution_count": 10,
   "metadata": {},
   "outputs": [
    {
     "data": {
      "image/png": "[encoded data removed]",
      "text/plain": [
       "<Figure size 432x288 with 1 Axes>"
      ]
     },
     "metadata": {
      "needs_background": "light"
     },
     "output_type": "display_data"
    }
   ],
   "source": [
    "# Extract questions from DataFrame as a string.\n",
    "text = ''.join(df_test['Content'].to_list())\n",
    "\n",
    "# Create a Word Cloud\n",
    "wordcloud = WordCloud(stopwords=set(STOPWORDS), max_words=80, background_color=\"white\", normalize_plurals=False)\n",
    "image = wordcloud.generate_from_text(text)\n",
    "\n",
    "# Plot wordcloud\n",
    "plt.imshow(wordcloud, interpolation='bilinear')\n",
    "plt.axis(\"off\")\n",
    "plt.title(\"Test set\")\n",
    "plt.show()"
   ]
  },
  {
   "cell_type": "markdown",
   "metadata": {},
   "source": [
    "From the word clouds we notice a grear similarity between words in questions in training set and test set."
   ]
  },
  {
   "cell_type": "markdown",
   "metadata": {},
   "source": [
    "## Data Preprocessing"
   ]
  },
  {
   "cell_type": "markdown",
   "metadata": {},
   "source": [
    "Before we proceed with the comparisons, we should perform some <b>text preprocessing</b> on both datasets, to achieve better results.<br/>\n",
    "This preprocessing includes:\n",
    "* Removing URLs\n",
    "* Removing English stop words\n",
    "* Removing non-alphanumeric characters\n",
    "* Stemming words\n",
    "* Replacing empty strings, after preprocessing, with the \"emptystring\" string"
   ]
  },
  {
   "cell_type": "code",
   "execution_count": 11,
   "metadata": {},
   "outputs": [
    {
     "name": "stderr",
     "output_type": "stream",
     "text": [
      "[nltk_data] Downloading package punkt to /home/user/nltk_data...\n",
      "[nltk_data]   Package punkt is already up-to-date!\n",
      "[nltk_data] Downloading package stopwords to /home/user/nltk_data...\n",
      "[nltk_data]   Package stopwords is already up-to-date!\n",
      "[nltk_data] Downloading package wordnet to /home/user/nltk_data...\n",
      "[nltk_data]   Package wordnet is already up-to-date!\n"
     ]
    }
   ],
   "source": [
    "def remove_hyperlinks(text):\n",
    "    \"\"\" Removes hyperlinks \"\"\"\n",
    "    text = re.sub(r'(https?:\\/\\/)?([\\da-z\\.-]+)\\.([a-z\\.]{2,6})([\\/\\w \\.-])', ' ', text)\n",
    "    return text\n",
    "\n",
    "def remove_html_tags(text):\n",
    "    text = re.sub('<[^>]+>', ' ', text)\n",
    "    return text\n",
    "\n",
    "def expand_contractions(text, contractions_re, contractions_dict):\n",
    "    \"\"\" Replaces contractions with the full words (e.g. I'll --> I will) \"\"\"\n",
    "    def replace(match):\n",
    "        return contractions_dict[match.group(0)]\n",
    "    return contractions_re.sub(replace, text)\n",
    "\n",
    "def remove_non_letters(text):\n",
    "    \"\"\" Removes non-english letter characters \"\"\"\n",
    "    text = re.sub(r'[^a-zA-Z]', ' ', text)\n",
    "    return text\n",
    "\n",
    "def text_preprocess(text, contractions_re, contractions_dict, stopwords=None, lemmatizer=None, stemmer=None):\n",
    "    \"\"\" Preprocesses (cleans) text by performing the following operations:\n",
    "    * Converts text to lowercase\n",
    "    * Expands contractions\n",
    "    * Removes URLs\n",
    "    * Removes non-alphanumeric characters\n",
    "    * Removes non-digit characters\n",
    "    * Removes tabs and redundant whitespaces\n",
    "    * Performs stemming\n",
    "    * Performs lemmatization\n",
    "    * Replaces empty strings and NULL entries (before and after preprocessing), with the string \"emptystring\"\n",
    "    \"\"\"\n",
    "    if text and text is not np.nan and text.lower() != 'nan':\n",
    "        text = text.lower()\n",
    "        text = remove_hyperlinks(text)\n",
    "        text = remove_html_tags(text)\n",
    "        text = expand_contractions(text, contractions_re, contractions_dict)\n",
    "        text = remove_non_letters(text)\n",
    "        tokens = nltk.word_tokenize(text)\n",
    "        if not tokens:\n",
    "            text = 'emptystring'\n",
    "        else:\n",
    "            if stemmer:\n",
    "                tokens = [stemmer.stem(token) for token in tokens]\n",
    "            if lemmatizer:\n",
    "                tokens = [lemmatizer.lemmatize(token) for token in tokens]\n",
    "            tokens = [x for x in tokens if x not in set(stopwords)]\n",
    "            text = ' '.join(tokens)\n",
    "            if not text or len(text) < 3:\n",
    "                text = 'emptystring'\n",
    "        \n",
    "    return text\n",
    "\n",
    "# Download NLTK tools\n",
    "nltk.download('punkt')\n",
    "nltk.download('stopwords')\n",
    "nltk.download('wordnet')\n",
    "\n",
    "# Initializes stop words, stemmer and lemmatizer\n",
    "stop_words = set(stopwords.words('english')+list(STOPWORDS)+list(ENGLISH_STOP_WORDS))\n",
    "# stemmer = SnowballStemmer('english')\n",
    "lemmatizer = WordNetLemmatizer()\n",
    "\n",
    "# Dictionary with contractions\n",
    "contractions_dict = {\"ain't\": \"are not\", \"'s\":\" is\", \"aren't\": \"are not\", \"can't\": \"cannot\", \"can't've\": \"cannot have\", \"‘cause\": \"because\", \n",
    "                     \"could've\": \"could have\", \"couldn't\": \"could not\", \"couldn't've\": \"could not have\", \"didn't\": \"did not\", \"doesn't\": \"does not\", \n",
    "                     \"don't\": \"do not\", \"hadn't\": \"had not\", \"hadn't've\": \"had not have\", \"hasn't\": \"has not\", \"haven't\": \"have not\", \"he'd\": \"he would\", \n",
    "                     \"he'd've\": \"he would have\", \"he'll\": \"he will\", \"he'll've\": \"he will have\", \"how'd\": \"how did\", \"how'd'y\": \"how do you\", \n",
    "                     \"how'll\": \"how will\", \"I'd\": \"I would\", \"I'd've\": \"I would have\", \"I'll\": \"I will\", \"I'll've\": \"I will have\", \"I'm\": \"I am\", \n",
    "                     \"I've\": \"I have\", \"isn't\": \"is not\", \"it'd\": \"it would\", \"it'd've\": \"it would have\", \"it'll\": \"it will\", \"it'll've\": \"it will have\", \n",
    "                     \"let's\": \"let us\", \"ma'am\": \"madam\", \"mayn't\": \"may not\", \"might've\": \"might have\", \"mightn't\": \"might not\", \"mightn't've\": \"might not have\", \n",
    "                     \"must've\": \"must have\", \"mustn't\": \"must not\", \"mustn't've\": \"must not have\", \"needn't\": \"need not\", \"needn't've\": \"need not have\", \n",
    "                     \"o'clock\": \"of the clock\", \"oughtn't\": \"ought not\", \"oughtn't've\": \"ought not have\", \"shan't\": \"shall not\", \"sha'n't\": \"shall not\", \n",
    "                     \"shan't've\": \"shall not have\", \"she'd\": \"she would\", \"she'd've\": \"she would have\", \"she'll\": \"she will\", \"she'll've\": \"she will have\", \n",
    "                     \"should've\": \"should have\", \"shouldn't\": \"should not\", \"shouldn't've\": \"should not have\", \"so've\": \"so have\", \"that'd\": \"that would\", \n",
    "                     \"that'd've\": \"that would have\", \"there'd\": \"there would\", \"there'd've\": \"there would have\", \"they'd\": \"they would\", \n",
    "                     \"they'd've\": \"they would have\",\"they'll\": \"they will\", \"they'll've\": \"they will have\", \"they're\": \"they are\", \"they've\": \"they have\", \n",
    "                     \"to've\": \"to have\", \"wasn't\": \"was not\", \"we'd\": \"we would\", \"we'd've\": \"we would have\", \"we'll\": \"we will\", \"we'll've\": \"we will have\", \n",
    "                     \"we're\": \"we are\", \"we've\": \"we have\", \"weren't\": \"were not\",\"what'll\": \"what will\", \"what'll've\": \"what will have\", \"what're\": \"what are\", \n",
    "                     \"what've\": \"what have\", \"when've\": \"when have\", \"where'd\": \"where did\", \"where've\": \"where have\", \"who'll\": \"who will\", \n",
    "                     \"who'll've\": \"who will have\", \"who've\": \"who have\", \"why've\": \"why have\", \"will've\": \"will have\", \"won't\": \"will not\", \n",
    "                     \"won't've\": \"will not have\", \"would've\": \"would have\", \"wouldn't\": \"would not\", \"wouldn't've\": \"would not have\", \"y'all\": \"you all\", \n",
    "                     \"y'all'd\": \"you all would\", \"y'all'd've\": \"you all would have\", \"y'all're\": \"you all are\", \"y'all've\": \"you all have\", \"you'd\": \"you would\", \n",
    "                     \"you'd've\": \"you would have\", \"you'll\": \"you will\", \"you'll've\": \"you will have\", \"you're\": \"you are\", \"you've\": \"you have\"}\n",
    "\n",
    "# Regular expression to identify contractions\n",
    "contractions_re = re.compile('(%s)'%'|'.join(contractions_dict.keys()))"
   ]
  },
  {
   "cell_type": "code",
   "execution_count": 12,
   "metadata": {},
   "outputs": [],
   "source": [
    "df_train['processed_text'] = df_train['Content'].apply(text_preprocess, args=(contractions_re, contractions_dict, stop_words, lemmatizer))\n",
    "df_test['processed_text'] = df_test['Content'].apply(text_preprocess, args=(contractions_re, contractions_dict, stop_words, lemmatizer))"
   ]
  },
  {
   "cell_type": "markdown",
   "metadata": {},
   "source": [
    "Let's take a look at what we achieved with this preprocessing."
   ]
  },
  {
   "cell_type": "code",
   "execution_count": 13,
   "metadata": {},
   "outputs": [
    {
     "data": {
      "text/html": [
       "<div>\n",
       "<style scoped>\n",
       "    .dataframe tbody tr th:only-of-type {\n",
       "        vertical-align: middle;\n",
       "    }\n",
       "\n",
       "    .dataframe tbody tr th {\n",
       "        vertical-align: top;\n",
       "    }\n",
       "\n",
       "    .dataframe thead th {\n",
       "        text-align: right;\n",
       "    }\n",
       "</style>\n",
       "<table border=\"1\" class=\"dataframe\">\n",
       "  <thead>\n",
       "    <tr style=\"text-align: right;\">\n",
       "      <th></th>\n",
       "      <th>Content</th>\n",
       "      <th>processed_text</th>\n",
       "    </tr>\n",
       "    <tr>\n",
       "      <th>Id</th>\n",
       "      <th></th>\n",
       "      <th></th>\n",
       "    </tr>\n",
       "  </thead>\n",
       "  <tbody>\n",
       "    <tr>\n",
       "      <th>0</th>\n",
       "      <td>How many people are going towards using phones...</td>\n",
       "      <td>people going using phone search local business</td>\n",
       "    </tr>\n",
       "    <tr>\n",
       "      <th>1</th>\n",
       "      <td>What audio format should I use for getting aud...</td>\n",
       "      <td>audio format use getting audio track live perf...</td>\n",
       "    </tr>\n",
       "    <tr>\n",
       "      <th>2</th>\n",
       "      <td>What is the corporate culture like at Edwards ...</td>\n",
       "      <td>corporate culture edward lifesciences culture ...</td>\n",
       "    </tr>\n",
       "    <tr>\n",
       "      <th>3</th>\n",
       "      <td>What is the best barbecue in Kansas City?\\n</td>\n",
       "      <td>best barbecue kansa city</td>\n",
       "    </tr>\n",
       "    <tr>\n",
       "      <th>4</th>\n",
       "      <td>\"Can I combine the output of two bolts to one ...</td>\n",
       "      <td>combine output bolt bolt apache storm using sh...</td>\n",
       "    </tr>\n",
       "  </tbody>\n",
       "</table>\n",
       "</div>"
      ],
      "text/plain": [
       "                                              Content  \\\n",
       "Id                                                      \n",
       "0   How many people are going towards using phones...   \n",
       "1   What audio format should I use for getting aud...   \n",
       "2   What is the corporate culture like at Edwards ...   \n",
       "3         What is the best barbecue in Kansas City?\\n   \n",
       "4   \"Can I combine the output of two bolts to one ...   \n",
       "\n",
       "                                       processed_text  \n",
       "Id                                                     \n",
       "0      people going using phone search local business  \n",
       "1   audio format use getting audio track live perf...  \n",
       "2   corporate culture edward lifesciences culture ...  \n",
       "3                            best barbecue kansa city  \n",
       "4   combine output bolt bolt apache storm using sh...  "
      ]
     },
     "execution_count": 13,
     "metadata": {},
     "output_type": "execute_result"
    }
   ],
   "source": [
    "df_train.head()"
   ]
  },
  {
   "cell_type": "code",
   "execution_count": 14,
   "metadata": {},
   "outputs": [
    {
     "data": {
      "text/html": [
       "<div>\n",
       "<style scoped>\n",
       "    .dataframe tbody tr th:only-of-type {\n",
       "        vertical-align: middle;\n",
       "    }\n",
       "\n",
       "    .dataframe tbody tr th {\n",
       "        vertical-align: top;\n",
       "    }\n",
       "\n",
       "    .dataframe thead th {\n",
       "        text-align: right;\n",
       "    }\n",
       "</style>\n",
       "<table border=\"1\" class=\"dataframe\">\n",
       "  <thead>\n",
       "    <tr style=\"text-align: right;\">\n",
       "      <th></th>\n",
       "      <th>Content</th>\n",
       "      <th>processed_text</th>\n",
       "    </tr>\n",
       "    <tr>\n",
       "      <th>Id</th>\n",
       "      <th></th>\n",
       "      <th></th>\n",
       "    </tr>\n",
       "  </thead>\n",
       "  <tbody>\n",
       "    <tr>\n",
       "      <th>0</th>\n",
       "      <td>How do I get good marks in college?\\n</td>\n",
       "      <td>good mark college</td>\n",
       "    </tr>\n",
       "    <tr>\n",
       "      <th>1</th>\n",
       "      <td>Can an android app use SMS only to communicate...</td>\n",
       "      <td>android app use sm communicate question intell...</td>\n",
       "    </tr>\n",
       "    <tr>\n",
       "      <th>2</th>\n",
       "      <td>What small detail from an Indian movie do you ...</td>\n",
       "      <td>small indian movie love</td>\n",
       "    </tr>\n",
       "    <tr>\n",
       "      <th>3</th>\n",
       "      <td>Why can not Hindu women be the soldier of Hind...</td>\n",
       "      <td>hindu woman soldier hinduism birth hindu kid m...</td>\n",
       "    </tr>\n",
       "    <tr>\n",
       "      <th>4</th>\n",
       "      <td>How would you write out twelve lakh twelve tho...</td>\n",
       "      <td>write lakh thousand numerically</td>\n",
       "    </tr>\n",
       "  </tbody>\n",
       "</table>\n",
       "</div>"
      ],
      "text/plain": [
       "                                              Content  \\\n",
       "Id                                                      \n",
       "0               How do I get good marks in college?\\n   \n",
       "1   Can an android app use SMS only to communicate...   \n",
       "2   What small detail from an Indian movie do you ...   \n",
       "3   Why can not Hindu women be the soldier of Hind...   \n",
       "4   How would you write out twelve lakh twelve tho...   \n",
       "\n",
       "                                       processed_text  \n",
       "Id                                                     \n",
       "0                                   good mark college  \n",
       "1   android app use sm communicate question intell...  \n",
       "2                             small indian movie love  \n",
       "3   hindu woman soldier hinduism birth hindu kid m...  \n",
       "4                     write lakh thousand numerically  "
      ]
     },
     "execution_count": 14,
     "metadata": {},
     "output_type": "execute_result"
    }
   ],
   "source": [
    "df_test.head()"
   ]
  },
  {
   "cell_type": "markdown",
   "metadata": {},
   "source": [
    "## Data Preparation"
   ]
  },
  {
   "cell_type": "markdown",
   "metadata": {},
   "source": [
    "We know that vectorized operations significantly increase the efficiency and the execution speed of arithmetic operations.<br/>\n",
    "For this reason, we are going to perform as many vectorized operations as possible, to speed-up the execution.<br/>\n",
    "Otherwise, we would have to wait days before we could get any result."
   ]
  },
  {
   "cell_type": "markdown",
   "metadata": {},
   "source": [
    "Now, we should convert the questions to <b>binary word vectors</b>, in order to be able to compare them efficiently with each other."
   ]
  },
  {
   "cell_type": "code",
   "execution_count": 15,
   "metadata": {},
   "outputs": [],
   "source": [
    "vectorizer = CountVectorizer(token_pattern=r'\\w{3,}', ngram_range=(1, 3), min_df=2, binary=True)\n",
    "\n",
    "vectorizer.fit(df_train['processed_text'])\n",
    "\n",
    "train_vectors = vectorizer.transform(df_train['processed_text'])\n",
    "test_vectors = vectorizer.transform(df_test['processed_text'])"
   ]
  },
  {
   "cell_type": "markdown",
   "metadata": {},
   "source": [
    "## Comparisons"
   ]
  },
  {
   "cell_type": "markdown",
   "metadata": {},
   "source": [
    "Now, we should define the parameters we are going to use across all experiments.\n",
    "\n",
    "* Similarity threshold 80% - this means that two questions are considered duplicate if their similarity score is higher than 80%.\n",
    "* Split factor 10% - this means we compare the test set against 10% of our training set in every epoch, leading to the need of 10 epochs to complete the comparisons."
   ]
  },
  {
   "cell_type": "code",
   "execution_count": 16,
   "metadata": {},
   "outputs": [],
   "source": [
    "sim_thresh=0.8\n",
    "split_factor=0.1"
   ]
  },
  {
   "cell_type": "markdown",
   "metadata": {},
   "source": [
    "### Cosine similarity - One VS All"
   ]
  },
  {
   "cell_type": "markdown",
   "metadata": {},
   "source": [
    "In our first experiment, we are going to perform an One-VS-All comparison, using cosine similarity as the similarity metric."
   ]
  },
  {
   "cell_type": "code",
   "execution_count": 17,
   "metadata": {},
   "outputs": [
    {
     "name": "stdout",
     "output_type": "stream",
     "text": [
      "----------------------------------------\n",
      "Searching for duplicates using cosine similarity...\n",
      "Search complete!\n",
      "Time to complete comparisons: 39.245369 seconds\n",
      "Total time: 39.245369\n",
      "Duplicates: 1752\n",
      "----------------------------------------\n"
     ]
    }
   ],
   "source": [
    "# Cosine similarity - one VS all\n",
    "\n",
    "\n",
    "# Search for duplicates\n",
    "def query(train_vectors, test_vectors, sim_thresh=0, split_factor=1.0):\n",
    "    \"\"\"\n",
    "    train_vectors: questions in training set (in vector form)\n",
    "    test_vectors: questions in test set (in vector form)\n",
    "    sim_thresh: similarity threshold above which questions are considered similar\n",
    "    split_factor: split training vectors into chunks, to avoid memory overflow\n",
    "    \"\"\"\n",
    "    \n",
    "    n = int(math.floor(1.0/split_factor))\n",
    "    m = int(math.floor(split_factor * train_vectors.shape[0]))\n",
    "    \n",
    "    duplicates = np.array([])\n",
    "    \n",
    "    print(\"Searching for duplicates using cosine similarity...\")\n",
    "    \n",
    "    start_time = datetime.now()\n",
    "    \n",
    "    for i in range(n):\n",
    "        arr = np.where(np.any(cosine_similarity(test_vectors, train_vectors[i*m:i*m+m]) > sim_thresh, axis=1))\n",
    "        duplicates = np.union1d(duplicates, arr)\n",
    "    arr = np.where(np.any(cosine_similarity(test_vectors, train_vectors[i*m:i*m+m]) > sim_thresh, axis=1))\n",
    "    duplicates = np.union1d(duplicates, arr)\n",
    "    \n",
    "    end_time = datetime.now()\n",
    "    \n",
    "    duration = datetime.combine(date.min, end_time.time()) - datetime.combine(date.min, start_time.time())\n",
    "    duration = duration.total_seconds()\n",
    "    \n",
    "    print(\"Search complete!\")\n",
    "    \n",
    "    return duplicates.size, duration\n",
    "\n",
    "\n",
    "\n",
    "print(\"-\" * 40)\n",
    "\n",
    "duplicate_pairs, query_time = query(train_vectors=train_vectors, test_vectors=test_vectors, sim_thresh=sim_thresh, split_factor=split_factor)\n",
    "\n",
    "print(f\"Time to complete comparisons: {query_time} seconds\")\n",
    "print(f\"Total time: {query_time}\")\n",
    "print(f\"Duplicates: {duplicate_pairs}\")\n",
    "print(\"-\" * 40)"
   ]
  },
  {
   "cell_type": "markdown",
   "metadata": {},
   "source": [
    "### Jaccard similarity - One VS All"
   ]
  },
  {
   "cell_type": "markdown",
   "metadata": {},
   "source": [
    "In our second experiment, we are going to perform an One-VS-All comparison, using Jaccard similarity as the similarity metric."
   ]
  },
  {
   "cell_type": "code",
   "execution_count": 18,
   "metadata": {},
   "outputs": [
    {
     "name": "stdout",
     "output_type": "stream",
     "text": [
      "----------------------------------------\n",
      "Searching for duplicates using Jaccard similarity...\n",
      "Search complete!\n",
      "Time to complete comparisons: 59.687798 seconds\n",
      "Total time: 59.687798\n",
      "Duplicates: 349\n",
      "----------------------------------------\n"
     ]
    }
   ],
   "source": [
    "# Jaccard similarity - one VS all\n",
    "\n",
    "\n",
    "def pairwise_jaccard_sparse(csr, idx, sim_thresh=0):\n",
    "    \"\"\"Computes the Jaccard distance between the rows of `csr`,\n",
    "    returning rows from idx and afterwards whose similarity is\n",
    "    higher than the cut-off distance `sim_thresh`.\n",
    "    \"\"\"\n",
    "    assert(0 < sim_thresh < 1)\n",
    "    \n",
    "    csr_rownnz = csr.getnnz(axis=1)\n",
    "    intrsct = csr.dot(csr.T)\n",
    "    \n",
    "    nnz_i = np.repeat(csr_rownnz, intrsct.getnnz(axis=1))\n",
    "    unions = nnz_i + csr_rownnz[intrsct.indices] - intrsct.data\n",
    "    sims = intrsct.data / unions.astype('float64')\n",
    "    \n",
    "    mask = (sims > sim_thresh) & (sims < 1.0)\n",
    "    data = sims[mask]\n",
    "    indices = intrsct.indices[mask]\n",
    "\n",
    "    rownnz = np.add.reduceat(mask, intrsct.indptr[:-1])\n",
    "    indptr = np.r_[0, np.cumsum(rownnz)]\n",
    "    \n",
    "    out = csr_matrix((data, indices, indptr), intrsct.shape)\n",
    "    \n",
    "    return out[idx:, :idx].nonzero()[0]\n",
    "\n",
    "\n",
    "# Search for duplicates\n",
    "def query(train_vectors, test_vectors, sim_thresh=0, split_factor=1.0):\n",
    "    \"\"\"\n",
    "    train_vectors: questions in training set (in vector form)\n",
    "    test_vectors: questions in test set (in vector form)\n",
    "    sim_thresh: similarity threshold above which questions are considered similar\n",
    "    split_factor: split training vectors into chunks, to avoid memory overflow\n",
    "    \"\"\"\n",
    "    \n",
    "    n = int(math.floor(1.0/split_factor))\n",
    "    m = int(math.floor(split_factor * train_vectors.shape[0]))\n",
    "    \n",
    "    duplicates = np.array([])\n",
    "    \n",
    "    print(\"Searching for duplicates using Jaccard similarity...\")\n",
    "    \n",
    "    start_time = datetime.now()\n",
    "    \n",
    "    for i in range(n):\n",
    "        csr = vstack([train_vectors[i*m:i*m+m], test_vectors])\n",
    "        arr = pairwise_jaccard_sparse(csr, m, sim_thresh)\n",
    "        duplicates = np.union1d(duplicates, arr)\n",
    "    csr = vstack([train_vectors[i*m:], test_vectors])\n",
    "    arr = pairwise_jaccard_sparse(csr, m, sim_thresh)\n",
    "    duplicates = np.union1d(duplicates, arr)\n",
    "    \n",
    "    end_time = datetime.now()\n",
    "        \n",
    "    duration = datetime.combine(date.min, end_time.time()) - datetime.combine(date.min, start_time.time())\n",
    "    duration = duration.total_seconds()\n",
    "    \n",
    "    print(\"Search complete!\")\n",
    "    \n",
    "    return duplicates.size, duration\n",
    "\n",
    "\n",
    "\n",
    "print(\"-\" * 40)\n",
    "\n",
    "duplicate_pairs, query_time = query(train_vectors=train_vectors, test_vectors=test_vectors, sim_thresh=sim_thresh, split_factor=split_factor)\n",
    "\n",
    "print(f\"Time to complete comparisons: {query_time} seconds\")\n",
    "print(f\"Total time: {query_time}\")\n",
    "print(f\"Duplicates: {duplicate_pairs}\")\n",
    "print(\"-\" * 40)"
   ]
  },
  {
   "cell_type": "markdown",
   "metadata": {},
   "source": [
    "Clearly, the number of duplicates using cosine similarity is significantly higher than the number of duplicates using Jaccard similarity."
   ]
  },
  {
   "cell_type": "markdown",
   "metadata": {},
   "source": [
    "### Cosine similarity - LSH"
   ]
  },
  {
   "cell_type": "markdown",
   "metadata": {},
   "source": [
    "Another way of performing the comparisons is utilizing Locality-Sensitive Hashing (LSH)."
   ]
  },
  {
   "cell_type": "markdown",
   "metadata": {},
   "source": [
    "In the following experiment, we are going to use LSH through SimHash for cosine similarity with random binary projection."
   ]
  },
  {
   "cell_type": "code",
   "execution_count": 19,
   "metadata": {},
   "outputs": [
    {
     "name": "stdout",
     "output_type": "stream",
     "text": [
      "Searching for duplicates using LSH, cosine distance and random binary projection\n",
      "----------------------------------------\n",
      "Using k=2\n",
      "Indexing vectors using k=2...\n",
      "Index built!\n",
      "Time to build the index: 63.564225 seconds\n",
      "Searching for duplicates using k=2...\n",
      "Search complete!\n",
      "Time to complete the search: 11309.529705 seconds\n",
      "Total time: 11373.093930000001\n",
      "Duplicates: 1499\n",
      "----------------------------------------\n",
      "Using k=3\n",
      "Indexing vectors using k=3...\n",
      "Index built!\n",
      "Time to build the index: 60.834016 seconds\n",
      "Searching for duplicates using k=3...\n",
      "Search complete!\n",
      "Time to complete the search: 6179.914195 seconds\n",
      "Total time: 6240.748211\n",
      "Duplicates: 1444\n",
      "----------------------------------------\n",
      "Using k=4\n",
      "Indexing vectors using k=4...\n",
      "Index built!\n",
      "Time to build the index: 61.184582 seconds\n",
      "Searching for duplicates using k=4...\n",
      "Search complete!\n",
      "Time to complete the search: 3279.564179 seconds\n",
      "Total time: 3340.748761\n",
      "Duplicates: 1373\n",
      "----------------------------------------\n",
      "Using k=5\n",
      "Indexing vectors using k=5...\n",
      "Index built!\n",
      "Time to build the index: 61.802465 seconds\n",
      "Searching for duplicates using k=5...\n",
      "Search complete!\n",
      "Time to complete the search: 1636.475836 seconds\n",
      "Total time: 1698.278301\n",
      "Duplicates: 1232\n",
      "----------------------------------------\n",
      "Using k=6\n",
      "Indexing vectors using k=6...\n",
      "Index built!\n",
      "Time to build the index: 62.756107 seconds\n",
      "Searching for duplicates using k=6...\n",
      "Search complete!\n",
      "Time to complete the search: 826.712444 seconds\n",
      "Total time: 889.468551\n",
      "Duplicates: 1236\n",
      "----------------------------------------\n",
      "Using k=7\n",
      "Indexing vectors using k=7...\n",
      "Index built!\n",
      "Time to build the index: 61.162357 seconds\n",
      "Searching for duplicates using k=7...\n",
      "Search complete!\n",
      "Time to complete the search: 420.717719 seconds\n",
      "Total time: 481.880076\n",
      "Duplicates: 1140\n",
      "----------------------------------------\n",
      "Using k=8\n",
      "Indexing vectors using k=8...\n",
      "Index built!\n",
      "Time to build the index: 63.275812 seconds\n",
      "Searching for duplicates using k=8...\n",
      "Search complete!\n",
      "Time to complete the search: 206.945976 seconds\n",
      "Total time: 270.221788\n",
      "Duplicates: 1111\n",
      "----------------------------------------\n",
      "Using k=9\n",
      "Indexing vectors using k=9...\n",
      "Index built!\n",
      "Time to build the index: 65.281441 seconds\n",
      "Searching for duplicates using k=9...\n",
      "Search complete!\n",
      "Time to complete the search: 97.132613 seconds\n",
      "Total time: 162.41405400000002\n",
      "Duplicates: 1068\n",
      "----------------------------------------\n",
      "Using k=10\n",
      "Indexing vectors using k=10...\n",
      "Index built!\n",
      "Time to build the index: 64.584481 seconds\n",
      "Searching for duplicates using k=10...\n",
      "Search complete!\n",
      "Time to complete the search: 58.278737 seconds\n",
      "Total time: 122.86321799999999\n",
      "Duplicates: 1038\n",
      "----------------------------------------\n",
      "Using k=11\n",
      "Indexing vectors using k=11...\n",
      "Index built!\n",
      "Time to build the index: 61.959985 seconds\n",
      "Searching for duplicates using k=11...\n",
      "Search complete!\n",
      "Time to complete the search: 35.788576 seconds\n",
      "Total time: 97.748561\n",
      "Duplicates: 1011\n",
      "----------------------------------------\n"
     ]
    }
   ],
   "source": [
    "# Cosine similarity through LSH indexing\n",
    "# Custom personal implementation utilizing MinHash and Random Binary Projection\n",
    "\n",
    "\n",
    "class LSH_cosine:\n",
    "    def __init__(self, hash_size, dimensions):\n",
    "        self.k = hash_size\n",
    "        self.dim = dimensions\n",
    "        self.ref_planes = csr_matrix(np.random.randn(self.k, self.dim))\n",
    "        self.hash_table = dict()\n",
    "    \n",
    "    def index(self, data):\n",
    "        \"\"\"\n",
    "        LSH signature generation using random projection\n",
    "        Returns the signature bits for a number of data points.\n",
    "        The signature bits of the points are different\n",
    "        only for the plane that divides the two points.\n",
    "        \"\"\"\n",
    "        keys = self.__hash(data)\n",
    "        \n",
    "        for i in range(data.shape[0]):\n",
    "            self.hash_table.setdefault(keys[i].tobytes(), []).append(data[i])\n",
    "    \n",
    "    def query(self, data, threshold=0):\n",
    "        keys = self.__hash(data)\n",
    "        \n",
    "        neighbors = []\n",
    "        \n",
    "        for i in range(data.shape[0]):\n",
    "            candidates = []\n",
    "            candidates.extend(self.hash_table.get(keys[i].tobytes()))\n",
    "            candidates_matrix = vstack(candidates)\n",
    "            similarities = cosine_similarity(candidates_matrix, data[i]) > threshold\n",
    "            neighbors.append(candidates_matrix[similarities[:,0]])\n",
    "        \n",
    "        return neighbors\n",
    "    \n",
    "    def __hash(self, data):\n",
    "        projs = data @ self.ref_planes.T\n",
    "        signs = (projs > 0)\n",
    "        keys = np.packbits(signs.toarray(), axis=-1)\n",
    "        \n",
    "        return keys\n",
    "\n",
    "# Build LSH index using MinHash\n",
    "def build_index(vectors, k=64, train_percentage=1.0):\n",
    "    \n",
    "    dim = train_vectors.shape[1]\n",
    "    \n",
    "    # Create LSH index\n",
    "    lsh_index = LSH_cosine(hash_size=k, dimensions=dim)\n",
    "    \n",
    "    print(\"Indexing vectors using k=\" + str(k) + \"...\")\n",
    "    \n",
    "    start_time = datetime.now()\n",
    "    \n",
    "    # Index train vectors\n",
    "    lsh_index.index(vectors)\n",
    "    \n",
    "    end_time = datetime.now()\n",
    "    \n",
    "    duration = datetime.combine(date.min, end_time.time()) - datetime.combine(date.min, start_time.time())\n",
    "    duration = duration.total_seconds()\n",
    "    \n",
    "    print(\"Index built!\")\n",
    "    print(\"Time to build the index: \" + str(duration) + \" seconds\")\n",
    "    \n",
    "    return lsh_index, duration\n",
    "\n",
    "\n",
    "# Search for duplicates\n",
    "def query(vectors, lsh_index, k, sim_thresh=0):\n",
    "    \n",
    "    duplicates = 0\n",
    "    \n",
    "    print(\"Searching for duplicates using k=\" + str(k) + \"...\")\n",
    "    \n",
    "    start_time = datetime.now()\n",
    "    \n",
    "    results = lsh_index.query(test_vectors, threshold=sim_thresh)\n",
    "    \n",
    "    for result in results:\n",
    "        if result.size:\n",
    "            duplicates += 1\n",
    "    \n",
    "    end_time = datetime.now()\n",
    "            \n",
    "    duration = datetime.combine(date.min, end_time.time()) - datetime.combine(date.min, start_time.time())\n",
    "    duration = duration.total_seconds()\n",
    "    \n",
    "    print(\"Search complete!\")\n",
    "    print(\"Time to complete the search: \" + str(duration) + \" seconds\")\n",
    "    \n",
    "    return duplicates, duration\n",
    "\n",
    "\n",
    "\n",
    "duplicates = []\n",
    "index_times = []\n",
    "query_times = []\n",
    "k_list = list(range(2,12))\n",
    "\n",
    "print(\"Searching for duplicates using LSH, cosine distance and random binary projection\")\n",
    "\n",
    "print(\"-\" * 40)\n",
    "\n",
    "for k in k_list:\n",
    "\n",
    "    print(\"Using k=\" + str(k))\n",
    "\n",
    "    lsh_index, index_time = build_index(vectors=train_vectors, k=k)\n",
    "    duplicate_pairs, query_time = query(vectors=test_vectors, lsh_index=lsh_index, k=k, sim_thresh=sim_thresh)\n",
    "    \n",
    "    index_times.append(index_time)\n",
    "    query_times.append(query_time)\n",
    "    duplicates.append(duplicate_pairs)\n",
    "\n",
    "    print(\"Total time: \" + str(index_time + query_time))\n",
    "    print(\"Duplicates: \" + str(duplicate_pairs))\n",
    "    print(\"-\" * 40)"
   ]
  },
  {
   "cell_type": "markdown",
   "metadata": {},
   "source": [
    "Let's plot the results."
   ]
  },
  {
   "cell_type": "code",
   "execution_count": 20,
   "metadata": {},
   "outputs": [
    {
     "data": {
      "image/png": "[encoded data removed]",
      "text/plain": [
       "<Figure size 1440x432 with 3 Axes>"
      ]
     },
     "metadata": {
      "needs_background": "light"
     },
     "output_type": "display_data"
    }
   ],
   "source": [
    "fig = plt.figure(figsize=(20, 6))\n",
    "\n",
    "plt.subplot(1,3,1)\n",
    "plt.plot(k_list, index_times, color='b')\n",
    "plt.xlim(1,k_list[-1]+1)\n",
    "plt.grid(True)\n",
    "plt.xlabel('K (bits)')\n",
    "plt.ylabel('Time (sec)')\n",
    "plt.title(\"Indexing time\")\n",
    "\n",
    "plt.subplot(1,3,2)\n",
    "plt.plot(k_list, query_times, color='r')\n",
    "plt.xlim(1,k_list[-1]+1)\n",
    "plt.grid(True)\n",
    "plt.xlabel('K (bits)')\n",
    "plt.ylabel('Time (sec)')\n",
    "plt.title(\"Querying time\")\n",
    "\n",
    "plt.subplot(1,3,3)\n",
    "plt.plot(k_list, duplicates, color='g')\n",
    "plt.xlim(1,k_list[-1]+1)\n",
    "plt.grid(True)\n",
    "plt.xlabel('K (bits)')\n",
    "plt.ylabel('Duplicates')\n",
    "plt.title(\"Number of duplicates\")\n",
    "\n",
    "plt.show()"
   ]
  },
  {
   "cell_type": "markdown",
   "metadata": {},
   "source": [
    "We can see that while the indexing time ranges between 58 and 62 seconds for every value of K, the querying time drops significantly as the value of K increases.\n",
    "\n",
    "Furthermore, the number of duplicates drops almost linearly as the value of K increases, as was expected, since more projection bits give a better representation of the projected vector.\n",
    "\n",
    "Finally, compared to the One-VS-All approach, we notice that the number of duplicates is lower when we use LSH when $\\text{K}\\geq 2$, and the reason this happens is because of the false negatives that are unavoidable when using LSH."
   ]
  },
  {
   "cell_type": "markdown",
   "metadata": {},
   "source": [
    "### Jaccard similarity - LSH"
   ]
  },
  {
   "cell_type": "markdown",
   "metadata": {},
   "source": [
    "In the following experiment, we are going to use LSH through MinHash for Jaccard similarity."
   ]
  },
  {
   "cell_type": "code",
   "execution_count": 21,
   "metadata": {},
   "outputs": [
    {
     "name": "stdout",
     "output_type": "stream",
     "text": [
      "Searching for duplicates using LSH and Jaccard distance\n",
      "----------------------------------------\n",
      "Using 16 permutation functions\n",
      "Building index using 16 permutation functions...\n",
      "Index built!\n",
      "Time to build the index: 3012.883576 seconds\n",
      "Searching for duplicates using 16 permutation functions...\n",
      "Search complete!\n",
      "Time to complete the search: 30.025734 seconds\n",
      "Total time: 3042.90931\n",
      "Duplicates: 811\n",
      "----------------------------------------\n",
      "Using 32 permutation functions\n",
      "Building index using 32 permutation functions...\n",
      "Index built!\n",
      "Time to build the index: 3044.977837 seconds\n",
      "Searching for duplicates using 32 permutation functions...\n",
      "Search complete!\n",
      "Time to complete the search: 30.651313 seconds\n",
      "Total time: 3075.6291499999998\n",
      "Duplicates: 811\n",
      "----------------------------------------\n",
      "Using 64 permutation functions\n",
      "Building index using 64 permutation functions...\n",
      "Index built!\n",
      "Time to build the index: 3322.948995 seconds\n",
      "Searching for duplicates using 64 permutation functions...\n",
      "Search complete!\n",
      "Time to complete the search: 32.112821 seconds\n",
      "Total time: 3355.0618160000004\n",
      "Duplicates: 811\n",
      "----------------------------------------\n",
      "Using 128 permutation functions\n",
      "Building index using 128 permutation functions...\n",
      "Index built!\n",
      "Time to build the index: 3584.496667 seconds\n",
      "Searching for duplicates using 128 permutation functions...\n",
      "Search complete!\n",
      "Time to complete the search: 35.461474 seconds\n",
      "Total time: 3619.958141\n",
      "Duplicates: 811\n",
      "----------------------------------------\n",
      "Using 256 permutation functions\n",
      "Building index using 256 permutation functions...\n",
      "Index built!\n",
      "Time to build the index: 4248.892051 seconds\n",
      "Searching for duplicates using 256 permutation functions...\n",
      "Search complete!\n",
      "Time to complete the search: 41.698051 seconds\n",
      "Total time: 4290.590102\n",
      "Duplicates: 811\n",
      "----------------------------------------\n",
      "Using 512 permutation functions\n",
      "Building index using 512 permutation functions...\n",
      "Index built!\n",
      "Time to build the index: 5489.360684 seconds\n",
      "Searching for duplicates using 512 permutation functions...\n",
      "Search complete!\n",
      "Time to complete the search: 56.081149 seconds\n",
      "Total time: 5545.441833\n",
      "Duplicates: 811\n",
      "----------------------------------------\n"
     ]
    }
   ],
   "source": [
    "# Jaccard similarity through LSH indexing\n",
    "# Implementation based on https://github.com/ekzhu/datasketch\n",
    "\n",
    "\n",
    "\n",
    "# Hash a vector using MinHash\n",
    "def hash_vector(vector, num_perm):\n",
    "    \n",
    "    minhash = MinHash(num_perm=num_perm)\n",
    "    \n",
    "    for coef in vector.todense():\n",
    "        minhash.update(coef)\n",
    "    \n",
    "    return minhash\n",
    "\n",
    "# Build LSH index using MinHash\n",
    "def build_index(vectors, num_perm, sim_thresh=0.8, train_percentage=1.0):\n",
    "    \n",
    "    lsh_index = MinHashLSH(sim_thresh, num_perm=num_perm)\n",
    "    \n",
    "    print(\"Building index using \" + str(num_perm) + \" permutation functions...\")\n",
    "    \n",
    "    start_time = datetime.now()\n",
    "    \n",
    "    for index, vector in enumerate(vectors[:int(vectors.shape[0] * train_percentage)]):\n",
    "        hashed_vector = hash_vector(vector, num_perm)\n",
    "        lsh_index.insert(index, hashed_vector)\n",
    "    \n",
    "    end_time = datetime.now()\n",
    "    \n",
    "    duration = datetime.combine(date.min, end_time.time()) - datetime.combine(date.min, start_time.time())\n",
    "    duration = duration.total_seconds()\n",
    "    \n",
    "    print(\"Index built!\")\n",
    "    print(\"Time to build the index: \" + str(duration) + \" seconds\")\n",
    "    \n",
    "    return lsh_index, duration\n",
    "\n",
    "# Search for duplicates\n",
    "def query(vectors, lsh_index, num_perm):\n",
    "    \n",
    "    duplicates = 0\n",
    "    \n",
    "    print(\"Searching for duplicates using \" + str(num_perm) + \" permutation functions...\")\n",
    "    \n",
    "    start_time = datetime.now()\n",
    "    \n",
    "    for vector in vectors:\n",
    "        hashed_vector = hash_vector(vector, num_perm)\n",
    "        result = lsh_index.query(hashed_vector)\n",
    "        \n",
    "        if result:\n",
    "            duplicates += 1\n",
    "    \n",
    "    end_time = datetime.now()\n",
    "            \n",
    "    duration = datetime.combine(date.min, end_time.time()) - datetime.combine(date.min, start_time.time())\n",
    "    duration = duration.total_seconds()\n",
    "    \n",
    "    print(\"Search complete!\")\n",
    "    print(\"Time to complete the search: \" + str(duration) + \" seconds\")\n",
    "    \n",
    "    return duplicates, duration\n",
    "\n",
    "\n",
    "\n",
    "duplicates = []\n",
    "index_times = []\n",
    "query_times = []\n",
    "perm_list = [16 * 2**i for i in range(6)]\n",
    "\n",
    "print(\"Searching for duplicates using LSH and Jaccard distance\")\n",
    "\n",
    "print(\"-\" * 40)\n",
    "\n",
    "for perm in perm_list:\n",
    "\n",
    "    print(f\"Using {perm} permutation functions\")\n",
    "    \n",
    "    lsh_index, index_time = build_index(vectors=train_vectors, num_perm=perm)\n",
    "    duplicate_pairs, query_time = query(vectors=test_vectors, lsh_index=lsh_index, num_perm=perm)\n",
    "    \n",
    "    index_times.append(index_time)\n",
    "    query_times.append(query_time)\n",
    "    duplicates.append(duplicate_pairs)\n",
    "\n",
    "    print(\"Total time: \" + str(index_time + query_time))\n",
    "    print(\"Duplicates: \" + str(duplicate_pairs))\n",
    "    print(\"-\" * 40)"
   ]
  },
  {
   "cell_type": "markdown",
   "metadata": {},
   "source": [
    "Let's plot the results."
   ]
  },
  {
   "cell_type": "code",
   "execution_count": 22,
   "metadata": {},
   "outputs": [
    {
     "data": {
      "image/png": "[encoded data removed]",
      "text/plain": [
       "<Figure size 1440x432 with 3 Axes>"
      ]
     },
     "metadata": {
      "needs_background": "light"
     },
     "output_type": "display_data"
    }
   ],
   "source": [
    "fig = plt.figure(figsize=(20, 6))\n",
    "\n",
    "plt.subplot(1,3,1)\n",
    "plt.plot(perm_list, index_times, color='b')\n",
    "plt.xlim(1,perm_list[-1]+perm_list[0])\n",
    "plt.grid(True)\n",
    "plt.xlabel('Permutation functions')\n",
    "plt.ylabel('Time (sec)')\n",
    "plt.title(\"Indexing time\")\n",
    "\n",
    "plt.subplot(1,3,2)\n",
    "plt.plot(perm_list, query_times, color='r')\n",
    "plt.xlim(1,perm_list[-1]+perm_list[0])\n",
    "plt.grid(True)\n",
    "plt.xlabel('Permutation functions')\n",
    "plt.ylabel('Time (sec)')\n",
    "plt.title(\"Querying time\")\n",
    "\n",
    "plt.subplot(1,3,3)\n",
    "plt.plot(perm_list, duplicates, color='g')\n",
    "plt.xlim(1,perm_list[-1]+perm_list[0])\n",
    "plt.grid(True)\n",
    "plt.xlabel('Permutation functions')\n",
    "plt.ylabel('Duplicates')\n",
    "plt.title(\"Number of duplicates\")\n",
    "\n",
    "plt.grid(True)\n",
    "plt.show()"
   ]
  },
  {
   "cell_type": "markdown",
   "metadata": {},
   "source": [
    "We can see that the indexing time increases significantly with the number of permutation functions, while the querying time slightly increases as the number of permutation functions increases.<br>\n",
    "Furthermore, the number of duplicates is exactly the same regardless of the number of permutation functions.<br>\n",
    "Finally, compared to the One-VS-All approach, we notice that the number of duplicates is significantly higher when we use LSH. This happens is because of the false positives that are unavoidable when using LSH."
   ]
  }
 ],
 "metadata": {
  "kernelspec": {
   "display_name": "Python 3",
   "language": "python",
   "name": "python3"
  },
  "language_info": {
   "codemirror_mode": {
    "name": "ipython",
    "version": 3
   },
   "file_extension": ".py",
   "mimetype": "text/x-python",
   "name": "python",
   "nbconvert_exporter": "python",
   "pygments_lexer": "ipython3",
   "version": "3.6.13"
  }
 },
 "nbformat": 4,
 "nbformat_minor": 4
}
